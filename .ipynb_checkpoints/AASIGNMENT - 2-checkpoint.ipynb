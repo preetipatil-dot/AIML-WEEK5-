{
 "cells": [
  {
   "cell_type": "markdown",
   "metadata": {},
   "source": [
    "# Assignment-2"
   ]
  },
  {
   "cell_type": "code",
   "execution_count": 81,
   "metadata": {},
   "outputs": [
    {
     "data": {
      "text/html": [
       "<div>\n",
       "<style scoped>\n",
       "    .dataframe tbody tr th:only-of-type {\n",
       "        vertical-align: middle;\n",
       "    }\n",
       "\n",
       "    .dataframe tbody tr th {\n",
       "        vertical-align: top;\n",
       "    }\n",
       "\n",
       "    .dataframe thead th {\n",
       "        text-align: right;\n",
       "    }\n",
       "</style>\n",
       "<table border=\"1\" class=\"dataframe\">\n",
       "  <thead>\n",
       "    <tr style=\"text-align: right;\">\n",
       "      <th></th>\n",
       "      <th>Unnamed: 0</th>\n",
       "      <th>carat</th>\n",
       "      <th>cut</th>\n",
       "      <th>color</th>\n",
       "      <th>clarity</th>\n",
       "      <th>depth</th>\n",
       "      <th>table</th>\n",
       "      <th>price</th>\n",
       "      <th>x</th>\n",
       "      <th>y</th>\n",
       "      <th>z</th>\n",
       "    </tr>\n",
       "  </thead>\n",
       "  <tbody>\n",
       "    <tr>\n",
       "      <th>0</th>\n",
       "      <td>1</td>\n",
       "      <td>0.23</td>\n",
       "      <td>Ideal</td>\n",
       "      <td>E</td>\n",
       "      <td>SI2</td>\n",
       "      <td>61.5</td>\n",
       "      <td>55.0</td>\n",
       "      <td>326</td>\n",
       "      <td>3.95</td>\n",
       "      <td>3.98</td>\n",
       "      <td>2.43</td>\n",
       "    </tr>\n",
       "    <tr>\n",
       "      <th>1</th>\n",
       "      <td>2</td>\n",
       "      <td>0.21</td>\n",
       "      <td>Premium</td>\n",
       "      <td>E</td>\n",
       "      <td>SI1</td>\n",
       "      <td>59.8</td>\n",
       "      <td>61.0</td>\n",
       "      <td>326</td>\n",
       "      <td>3.89</td>\n",
       "      <td>3.84</td>\n",
       "      <td>2.31</td>\n",
       "    </tr>\n",
       "    <tr>\n",
       "      <th>3</th>\n",
       "      <td>4</td>\n",
       "      <td>0.29</td>\n",
       "      <td>Premium</td>\n",
       "      <td>I</td>\n",
       "      <td>VS2</td>\n",
       "      <td>62.4</td>\n",
       "      <td>58.0</td>\n",
       "      <td>334</td>\n",
       "      <td>4.20</td>\n",
       "      <td>4.23</td>\n",
       "      <td>2.63</td>\n",
       "    </tr>\n",
       "    <tr>\n",
       "      <th>6</th>\n",
       "      <td>7</td>\n",
       "      <td>0.24</td>\n",
       "      <td>Very Good</td>\n",
       "      <td>I</td>\n",
       "      <td>VVS1</td>\n",
       "      <td>62.3</td>\n",
       "      <td>57.0</td>\n",
       "      <td>336</td>\n",
       "      <td>3.95</td>\n",
       "      <td>3.98</td>\n",
       "      <td>2.47</td>\n",
       "    </tr>\n",
       "    <tr>\n",
       "      <th>7</th>\n",
       "      <td>8</td>\n",
       "      <td>0.26</td>\n",
       "      <td>Very Good</td>\n",
       "      <td>H</td>\n",
       "      <td>SI1</td>\n",
       "      <td>61.9</td>\n",
       "      <td>55.0</td>\n",
       "      <td>337</td>\n",
       "      <td>4.07</td>\n",
       "      <td>4.11</td>\n",
       "      <td>2.53</td>\n",
       "    </tr>\n",
       "    <tr>\n",
       "      <th>...</th>\n",
       "      <td>...</td>\n",
       "      <td>...</td>\n",
       "      <td>...</td>\n",
       "      <td>...</td>\n",
       "      <td>...</td>\n",
       "      <td>...</td>\n",
       "      <td>...</td>\n",
       "      <td>...</td>\n",
       "      <td>...</td>\n",
       "      <td>...</td>\n",
       "      <td>...</td>\n",
       "    </tr>\n",
       "    <tr>\n",
       "      <th>53935</th>\n",
       "      <td>53936</td>\n",
       "      <td>0.72</td>\n",
       "      <td>Ideal</td>\n",
       "      <td>D</td>\n",
       "      <td>SI1</td>\n",
       "      <td>60.8</td>\n",
       "      <td>57.0</td>\n",
       "      <td>2757</td>\n",
       "      <td>5.75</td>\n",
       "      <td>5.76</td>\n",
       "      <td>3.50</td>\n",
       "    </tr>\n",
       "    <tr>\n",
       "      <th>53936</th>\n",
       "      <td>53937</td>\n",
       "      <td>0.72</td>\n",
       "      <td>Good</td>\n",
       "      <td>D</td>\n",
       "      <td>SI1</td>\n",
       "      <td>63.1</td>\n",
       "      <td>55.0</td>\n",
       "      <td>2757</td>\n",
       "      <td>5.69</td>\n",
       "      <td>5.75</td>\n",
       "      <td>3.61</td>\n",
       "    </tr>\n",
       "    <tr>\n",
       "      <th>53937</th>\n",
       "      <td>53938</td>\n",
       "      <td>0.70</td>\n",
       "      <td>Very Good</td>\n",
       "      <td>D</td>\n",
       "      <td>SI1</td>\n",
       "      <td>62.8</td>\n",
       "      <td>60.0</td>\n",
       "      <td>2757</td>\n",
       "      <td>5.66</td>\n",
       "      <td>5.68</td>\n",
       "      <td>3.56</td>\n",
       "    </tr>\n",
       "    <tr>\n",
       "      <th>53938</th>\n",
       "      <td>53939</td>\n",
       "      <td>0.86</td>\n",
       "      <td>Premium</td>\n",
       "      <td>H</td>\n",
       "      <td>SI2</td>\n",
       "      <td>61.0</td>\n",
       "      <td>58.0</td>\n",
       "      <td>2757</td>\n",
       "      <td>6.15</td>\n",
       "      <td>6.12</td>\n",
       "      <td>3.74</td>\n",
       "    </tr>\n",
       "    <tr>\n",
       "      <th>53939</th>\n",
       "      <td>53940</td>\n",
       "      <td>0.75</td>\n",
       "      <td>Ideal</td>\n",
       "      <td>D</td>\n",
       "      <td>SI2</td>\n",
       "      <td>62.2</td>\n",
       "      <td>55.0</td>\n",
       "      <td>2757</td>\n",
       "      <td>5.83</td>\n",
       "      <td>5.87</td>\n",
       "      <td>3.64</td>\n",
       "    </tr>\n",
       "  </tbody>\n",
       "</table>\n",
       "<p>53937 rows × 11 columns</p>\n",
       "</div>"
      ],
      "text/plain": [
       "       Unnamed: 0  carat        cut color clarity  depth  table  price     x  \\\n",
       "0               1   0.23      Ideal     E     SI2   61.5   55.0    326  3.95   \n",
       "1               2   0.21    Premium     E     SI1   59.8   61.0    326  3.89   \n",
       "3               4   0.29    Premium     I     VS2   62.4   58.0    334  4.20   \n",
       "6               7   0.24  Very Good     I    VVS1   62.3   57.0    336  3.95   \n",
       "7               8   0.26  Very Good     H     SI1   61.9   55.0    337  4.07   \n",
       "...           ...    ...        ...   ...     ...    ...    ...    ...   ...   \n",
       "53935       53936   0.72      Ideal     D     SI1   60.8   57.0   2757  5.75   \n",
       "53936       53937   0.72       Good     D     SI1   63.1   55.0   2757  5.69   \n",
       "53937       53938   0.70  Very Good     D     SI1   62.8   60.0   2757  5.66   \n",
       "53938       53939   0.86    Premium     H     SI2   61.0   58.0   2757  6.15   \n",
       "53939       53940   0.75      Ideal     D     SI2   62.2   55.0   2757  5.83   \n",
       "\n",
       "          y     z  \n",
       "0      3.98  2.43  \n",
       "1      3.84  2.31  \n",
       "3      4.23  2.63  \n",
       "6      3.98  2.47  \n",
       "7      4.11  2.53  \n",
       "...     ...   ...  \n",
       "53935  5.76  3.50  \n",
       "53936  5.75  3.61  \n",
       "53937  5.68  3.56  \n",
       "53938  6.12  3.74  \n",
       "53939  5.87  3.64  \n",
       "\n",
       "[53937 rows x 11 columns]"
      ]
     },
     "execution_count": 81,
     "metadata": {},
     "output_type": "execute_result"
    }
   ],
   "source": [
    "diamonds"
   ]
  },
  {
   "cell_type": "markdown",
   "metadata": {},
   "source": [
    "## a) Read a dataset from diamonds Data Frame and modify the default columns values and print the first 6 rows"
   ]
  },
  {
   "cell_type": "code",
   "execution_count": 82,
   "metadata": {},
   "outputs": [
    {
     "name": "stdout",
     "output_type": "stream",
     "text": [
      "first 6 rows\n",
      "   carat        cut     x     y     z\n",
      "0   0.23      Ideal  3.95  3.98  2.43\n",
      "1   0.21    Premium  3.89  3.84  2.31\n",
      "2   0.23       Good  4.05  4.07  2.31\n",
      "3   0.29    Premium  4.20  4.23  2.63\n",
      "4   0.31       Good  4.34  4.35  2.75\n",
      "5   0.24  Very Good  3.94  3.96  2.48\n"
     ]
    }
   ],
   "source": [
    "#importing neccessary libraries and dataset\n",
    "import pandas as pd\n",
    "user_cols=['carat','cut','x','y','z']\n",
    "diamonds=pd.read_csv('diamonds.csv')\n",
    "print(\"first 6 rows\")\n",
    "print(diamonds[user_cols].head(6))"
   ]
  },
  {
   "cell_type": "markdown",
   "metadata": {},
   "source": [
    "## b) Select a series from diamonds Data Frame. Print the content of the series"
   ]
  },
  {
   "cell_type": "code",
   "execution_count": 83,
   "metadata": {},
   "outputs": [
    {
     "name": "stdout",
     "output_type": "stream",
     "text": [
      "0        0.23\n",
      "1        0.21\n",
      "2        0.23\n",
      "3        0.29\n",
      "4        0.31\n",
      "         ... \n",
      "53935    0.72\n",
      "53936    0.72\n",
      "53937    0.70\n",
      "53938    0.86\n",
      "53939    0.75\n",
      "Name: carat, Length: 53940, dtype: float64\n"
     ]
    }
   ],
   "source": [
    "#print any one series of diamond dataset\n",
    "print(diamonds['carat'])"
   ]
  },
  {
   "cell_type": "markdown",
   "metadata": {},
   "source": [
    "## c) Create a new 'Quality -color' Series(use bracket notation to define the Series name) of the diamonds dataframe"
   ]
  },
  {
   "cell_type": "code",
   "execution_count": 110,
   "metadata": {},
   "outputs": [
    {
     "name": "stdout",
     "output_type": "stream",
     "text": [
      "   Unnamed: 0  carat      cut color clarity  depth  table  price     x     y  \\\n",
      "0           1   0.23    Ideal     E     SI2   61.5   55.0    326  3.95  3.98   \n",
      "1           2   0.21  Premium     E     SI1   59.8   61.0    326  3.89  3.84   \n",
      "2           3   0.23     Good     E     VS1   56.9   65.0    327  4.05  4.07   \n",
      "3           4   0.29  Premium     I     VS2   62.4   58.0    334  4.20  4.23   \n",
      "4           5   0.31     Good     J     SI2   63.3   58.0    335  4.34  4.35   \n",
      "\n",
      "      z Quality -color  \n",
      "0  2.43        Ideal,E  \n",
      "1  2.31      Premium,E  \n",
      "2  2.31         Good,E  \n",
      "3  2.63      Premium,I  \n",
      "4  2.75         Good,J  \n"
     ]
    }
   ],
   "source": [
    "#creating a new series called 'Quality -color'\n",
    "import pandas as pd\n",
    "diamonds=pd.read_csv('diamonds.csv')\n",
    "diamonds['Quality -color'] = diamonds.cut+','+diamonds.color\n",
    "print(diamonds.head())"
   ]
  },
  {
   "cell_type": "markdown",
   "metadata": {},
   "source": [
    "## d) Rename two of the columns of the diamonds Data frame and rename all the columns of the diamonds dataframe"
   ]
  },
  {
   "cell_type": "code",
   "execution_count": 111,
   "metadata": {},
   "outputs": [
    {
     "name": "stdout",
     "output_type": "stream",
     "text": [
      "original dataframe\n",
      "   Unnamed: 0  carat      cut color clarity  depth  table  price     x     y  \\\n",
      "0           1   0.23    Ideal     E     SI2   61.5   55.0    326  3.95  3.98   \n",
      "1           2   0.21  Premium     E     SI1   59.8   61.0    326  3.89  3.84   \n",
      "2           3   0.23     Good     E     VS1   56.9   65.0    327  4.05  4.07   \n",
      "3           4   0.29  Premium     I     VS2   62.4   58.0    334  4.20  4.23   \n",
      "4           5   0.31     Good     J     SI2   63.3   58.0    335  4.34  4.35   \n",
      "\n",
      "      z Quality -color  \n",
      "0  2.43        Ideal,E  \n",
      "1  2.31      Premium,E  \n",
      "2  2.31         Good,E  \n",
      "3  2.63      Premium,I  \n",
      "4  2.75         Good,J  \n",
      "\n",
      " after renaming two of the columns:\n",
      "   Unnamed: 0  carat      cut diamond_color diamond_clarity  depth  table  \\\n",
      "0           1   0.23    Ideal             E             SI2   61.5   55.0   \n",
      "1           2   0.21  Premium             E             SI1   59.8   61.0   \n",
      "2           3   0.23     Good             E             VS1   56.9   65.0   \n",
      "3           4   0.29  Premium             I             VS2   62.4   58.0   \n",
      "4           5   0.31     Good             J             SI2   63.3   58.0   \n",
      "\n",
      "   price     x     y     z Quality -color  \n",
      "0    326  3.95  3.98  2.43        Ideal,E  \n",
      "1    326  3.89  3.84  2.31      Premium,E  \n",
      "2    327  4.05  4.07  2.31         Good,E  \n",
      "3    334  4.20  4.23  2.63      Premium,I  \n",
      "4    335  4.34  4.35  2.75         Good,J  \n"
     ]
    }
   ],
   "source": [
    " # Renaming twio of the columns\n",
    "print(\"original dataframe\")\n",
    "print(diamonds.head())\n",
    "print(\"\\n after renaming two of the columns:\")\n",
    "diamonds.rename(columns={'color':'diamond_color','clarity':'diamond_clarity'},inplace=True)\n",
    "print(diamonds.head())"
   ]
  },
  {
   "cell_type": "markdown",
   "metadata": {},
   "source": [
    "## e) Remove the second column of the diamonds Data frame and remove multiple columns at once of the diamonds Data frame"
   ]
  },
  {
   "cell_type": "code",
   "execution_count": 112,
   "metadata": {},
   "outputs": [
    {
     "name": "stdout",
     "output_type": "stream",
     "text": [
      "original dataframe:\n",
      "   Unnamed: 0  carat      cut color clarity  depth  table  price     x     y  \\\n",
      "0           1   0.23    Ideal     E     SI2   61.5   55.0    326  3.95  3.98   \n",
      "1           2   0.21  Premium     E     SI1   59.8   61.0    326  3.89  3.84   \n",
      "2           3   0.23     Good     E     VS1   56.9   65.0    327  4.05  4.07   \n",
      "3           4   0.29  Premium     I     VS2   62.4   58.0    334  4.20  4.23   \n",
      "4           5   0.31     Good     J     SI2   63.3   58.0    335  4.34  4.35   \n",
      "\n",
      "      z  \n",
      "0  2.43  \n",
      "1  2.31  \n",
      "2  2.31  \n",
      "3  2.63  \n",
      "4  2.75  \n",
      "\n",
      " after renaming the second columns:\n",
      "   Unnamed: 0  carat color clarity  depth  table  price     x     y     z\n",
      "0           1   0.23     E     SI2   61.5   55.0    326  3.95  3.98  2.43\n",
      "1           2   0.21     E     SI1   59.8   61.0    326  3.89  3.84  2.31\n",
      "2           3   0.23     E     VS1   56.9   65.0    327  4.05  4.07  2.31\n",
      "3           4   0.29     I     VS2   62.4   58.0    334  4.20  4.23  2.63\n",
      "4           5   0.31     J     SI2   63.3   58.0    335  4.34  4.35  2.75\n"
     ]
    }
   ],
   "source": [
    "#remove the second columns\n",
    "diamonds=pd.read_csv('diamonds.csv')\n",
    "print(\"original dataframe:\")\n",
    "print(diamonds.head())\n",
    "print(\"\\n after renaming the second columns:\")\n",
    "diamonds.drop('cut',axis=1,inplace=True)\n",
    "print(diamonds.head())"
   ]
  },
  {
   "cell_type": "code",
   "execution_count": 113,
   "metadata": {},
   "outputs": [
    {
     "name": "stdout",
     "output_type": "stream",
     "text": [
      "original dataframe:\n",
      "   Unnamed: 0  carat      cut color clarity  depth  table  price     x     y  \\\n",
      "0           1   0.23    Ideal     E     SI2   61.5   55.0    326  3.95  3.98   \n",
      "1           2   0.21  Premium     E     SI1   59.8   61.0    326  3.89  3.84   \n",
      "2           3   0.23     Good     E     VS1   56.9   65.0    327  4.05  4.07   \n",
      "3           4   0.29  Premium     I     VS2   62.4   58.0    334  4.20  4.23   \n",
      "4           5   0.31     Good     J     SI2   63.3   58.0    335  4.34  4.35   \n",
      "\n",
      "      z  \n",
      "0  2.43  \n",
      "1  2.31  \n",
      "2  2.31  \n",
      "3  2.63  \n",
      "4  2.75  \n",
      "\n",
      " after renaming the second columns:\n",
      "   Unnamed: 0      cut clarity  depth  table  price     x     z\n",
      "0           1    Ideal     SI2   61.5   55.0    326  3.95  2.43\n",
      "1           2  Premium     SI1   59.8   61.0    326  3.89  2.31\n",
      "2           3     Good     VS1   56.9   65.0    327  4.05  2.31\n",
      "3           4  Premium     VS2   62.4   58.0    334  4.20  2.63\n",
      "4           5     Good     SI2   63.3   58.0    335  4.34  2.75\n"
     ]
    }
   ],
   "source": [
    "diamonds=pd.read_csv('diamonds.csv')\n",
    "print(\"original dataframe:\")\n",
    "print(diamonds.head())\n",
    "print(\"\\n after renaming the second columns:\")\n",
    "diamonds.drop(['carat','color','y'],axis=1,inplace=True)\n",
    "print(diamonds.head())"
   ]
  },
  {
   "cell_type": "markdown",
   "metadata": {},
   "source": [
    "## f) Remove multiple rows at once(axis=0 refers to rows) from diamonds data frame"
   ]
  },
  {
   "cell_type": "code",
   "execution_count": 114,
   "metadata": {},
   "outputs": [
    {
     "name": "stdout",
     "output_type": "stream",
     "text": [
      "original dataframe:\n",
      "   Unnamed: 0  carat      cut color clarity  depth  table  price     x     y  \\\n",
      "0           1   0.23    Ideal     E     SI2   61.5   55.0    326  3.95  3.98   \n",
      "1           2   0.21  Premium     E     SI1   59.8   61.0    326  3.89  3.84   \n",
      "2           3   0.23     Good     E     VS1   56.9   65.0    327  4.05  4.07   \n",
      "3           4   0.29  Premium     I     VS2   62.4   58.0    334  4.20  4.23   \n",
      "4           5   0.31     Good     J     SI2   63.3   58.0    335  4.34  4.35   \n",
      "\n",
      "      z  \n",
      "0  2.43  \n",
      "1  2.31  \n",
      "2  2.31  \n",
      "3  2.63  \n",
      "4  2.75  \n",
      "\n",
      " after renaming multiple rows:\n",
      "   Unnamed: 0  carat        cut color clarity  depth  table  price     x  \\\n",
      "0           1   0.23      Ideal     E     SI2   61.5   55.0    326  3.95   \n",
      "1           2   0.21    Premium     E     SI1   59.8   61.0    326  3.89   \n",
      "3           4   0.29    Premium     I     VS2   62.4   58.0    334  4.20   \n",
      "6           7   0.24  Very Good     I    VVS1   62.3   57.0    336  3.95   \n",
      "7           8   0.26  Very Good     H     SI1   61.9   55.0    337  4.07   \n",
      "\n",
      "      y     z  \n",
      "0  3.98  2.43  \n",
      "1  3.84  2.31  \n",
      "3  4.23  2.63  \n",
      "6  3.98  2.47  \n",
      "7  4.11  2.53  \n"
     ]
    }
   ],
   "source": [
    "#Removing multiple rows at a time\n",
    "diamonds=pd.read_csv('diamonds.csv')\n",
    "print(\"original dataframe:\")\n",
    "print(diamonds.head())\n",
    "print(\"\\n after renaming multiple rows:\")\n",
    "diamonds.drop([2,4,5],axis=0,inplace=True)\n",
    "print(diamonds.head())"
   ]
  },
  {
   "cell_type": "markdown",
   "metadata": {},
   "source": [
    "## g) Sort the price 'price' Series in decending order (returns a Series) of diamonds Data frame and sort the entire diamonds Data Frame by the 'carat' Series in ascending and descending order"
   ]
  },
  {
   "cell_type": "code",
   "execution_count": 115,
   "metadata": {},
   "outputs": [
    {
     "name": "stdout",
     "output_type": "stream",
     "text": [
      "\n",
      " Price series in descending order:\n",
      "27749    18823\n",
      "27748    18818\n",
      "27747    18806\n",
      "27746    18804\n",
      "27745    18803\n",
      "         ...  \n",
      "7          337\n",
      "6          336\n",
      "3          334\n",
      "1          326\n",
      "0          326\n",
      "Name: price, Length: 53937, dtype: int64\n"
     ]
    }
   ],
   "source": [
    "# sorting the 'price' series\n",
    "print(\"\\n Price series in descending order:\")\n",
    "result=diamonds.price.sort_values(ascending =False)\n",
    "print(result)"
   ]
  },
  {
   "cell_type": "code",
   "execution_count": 116,
   "metadata": {},
   "outputs": [
    {
     "name": "stdout",
     "output_type": "stream",
     "text": [
      "Sorting the entire diamonds data frame by the 'carat' series in ascending order\n",
      "       Unnamed: 0  carat        cut color clarity  depth  table  price      x  \\\n",
      "31593       31594   0.20    Premium     E     VS2   61.1   59.0    367   3.81   \n",
      "31598       31599   0.20  Very Good     E     VS2   63.4   59.0    367   3.74   \n",
      "14             15   0.20    Premium     E     SI2   60.2   62.0    345   3.79   \n",
      "31600       31601   0.20    Premium     D     VS2   62.3   60.0    367   3.73   \n",
      "31599       31600   0.20      Ideal     E     VS2   62.2   57.0    367   3.76   \n",
      "...           ...    ...        ...   ...     ...    ...    ...    ...    ...   \n",
      "25998       25999   4.01    Premium     I      I1   61.0   61.0  15223  10.14   \n",
      "25999       26000   4.01    Premium     J      I1   62.5   62.0  15223  10.02   \n",
      "27130       27131   4.13       Fair     H      I1   64.8   61.0  17329  10.00   \n",
      "27630       27631   4.50       Fair     J      I1   65.8   58.0  18531  10.23   \n",
      "27415       27416   5.01       Fair     J      I1   65.5   59.0  18018  10.74   \n",
      "\n",
      "           y     z  \n",
      "31593   3.78  2.32  \n",
      "31598   3.71  2.36  \n",
      "14      3.75  2.27  \n",
      "31600   3.68  2.31  \n",
      "31599   3.73  2.33  \n",
      "...      ...   ...  \n",
      "25998  10.10  6.17  \n",
      "25999   9.94  6.24  \n",
      "27130   9.85  6.43  \n",
      "27630  10.16  6.72  \n",
      "27415  10.54  6.98  \n",
      "\n",
      "[53937 rows x 11 columns]\n",
      "sorting the entire diamonds data frame by the 'carat' series in descending order\n",
      "       Unnamed: 0  carat      cut color clarity  depth  table  price      x  \\\n",
      "27415       27416   5.01     Fair     J      I1   65.5   59.0  18018  10.74   \n",
      "27630       27631   4.50     Fair     J      I1   65.8   58.0  18531  10.23   \n",
      "27130       27131   4.13     Fair     H      I1   64.8   61.0  17329  10.00   \n",
      "25999       26000   4.01  Premium     J      I1   62.5   62.0  15223  10.02   \n",
      "25998       25999   4.01  Premium     I      I1   61.0   61.0  15223  10.14   \n",
      "...           ...    ...      ...   ...     ...    ...    ...    ...    ...   \n",
      "31594       31595   0.20  Premium     E     VS2   59.7   62.0    367   3.84   \n",
      "31593       31594   0.20  Premium     E     VS2   61.1   59.0    367   3.81   \n",
      "31592       31593   0.20  Premium     E     VS2   59.0   60.0    367   3.81   \n",
      "31591       31592   0.20  Premium     E     VS2   59.8   62.0    367   3.79   \n",
      "31600       31601   0.20  Premium     D     VS2   62.3   60.0    367   3.73   \n",
      "\n",
      "           y     z  \n",
      "27415  10.54  6.98  \n",
      "27630  10.16  6.72  \n",
      "27130   9.85  6.43  \n",
      "25999   9.94  6.24  \n",
      "25998  10.10  6.17  \n",
      "...      ...   ...  \n",
      "31594   3.80  2.28  \n",
      "31593   3.78  2.32  \n",
      "31592   3.78  2.24  \n",
      "31591   3.77  2.26  \n",
      "31600   3.68  2.31  \n",
      "\n",
      "[53937 rows x 11 columns]\n"
     ]
    }
   ],
   "source": [
    "# sorting the entire dataset based on 'carat' series\n",
    "print(\"Sorting the entire diamonds data frame by the 'carat' series in ascending order\")\n",
    "result=diamonds.sort_values('carat')\n",
    "print(result)\n",
    "print(\"sorting the entire diamonds data frame by the 'carat' series in descending order\")\n",
    "result=diamonds.sort_values('carat',ascending = False)\n",
    "print(result)"
   ]
  },
  {
   "cell_type": "markdown",
   "metadata": {},
   "source": [
    "\n",
    "## h) Filter the Data frame rows to only show carat weight at least 0.3"
   ]
  },
  {
   "cell_type": "code",
   "execution_count": 117,
   "metadata": {},
   "outputs": [
    {
     "name": "stdout",
     "output_type": "stream",
     "text": [
      "rows to only show carat weight at least 0.3\n",
      "[False, False, False, False, False, False, False, True, False, False, True, False, True, True, True, True, True, True, False, False]\n"
     ]
    }
   ],
   "source": [
    "#prints the rows having carat weight greater than or equal to 0.3\n",
    "print('rows to only show carat weight at least 0.3')\n",
    "booleans=[]\n",
    "for w in diamonds.carat:\n",
    "    if w>=0.3:\n",
    "       booleans.append(True)\n",
    "    else:\n",
    "        booleans.append(False)\n",
    "print(booleans[0:20])"
   ]
  },
  {
   "cell_type": "markdown",
   "metadata": {},
   "source": [
    "## i) Find the diamonds that are with a fair or good or premium"
   ]
  },
  {
   "cell_type": "code",
   "execution_count": 118,
   "metadata": {},
   "outputs": [
    {
     "name": "stdout",
     "output_type": "stream",
     "text": [
      "\n",
      " Diamonds that are with a Fair or good or Premium:\n",
      "    Unnamed: 0  carat      cut color clarity  depth  table  price     x     y  \\\n",
      "1            2   0.21  Premium     E     SI1   59.8   61.0    326  3.89  3.84   \n",
      "3            4   0.29  Premium     I     VS2   62.4   58.0    334  4.20  4.23   \n",
      "8            9   0.22     Fair     E     VS2   65.1   61.0    337  3.87  3.78   \n",
      "10          11   0.30     Good     J     SI1   64.0   55.0    339  4.25  4.28   \n",
      "12          13   0.22  Premium     F     SI1   60.4   61.0    342  3.88  3.84   \n",
      "\n",
      "       z  \n",
      "1   2.31  \n",
      "3   2.63  \n",
      "8   2.49  \n",
      "10  2.73  \n",
      "12  2.33  \n"
     ]
    }
   ],
   "source": [
    "#print the diamonds that are with a Fair or Good or Premium\n",
    "print(\"\\n Diamonds that are with a Fair or good or Premium:\")\n",
    "result=diamonds[diamonds.cut.isin([\"Fair\",\"Good\",\"Premium\"])]\n",
    "print(result.head())"
   ]
  },
  {
   "cell_type": "markdown",
   "metadata": {},
   "source": [
    "## j) Find the details of the diamonds where length>5, width>>5 and depth>5"
   ]
  },
  {
   "cell_type": "code",
   "execution_count": 119,
   "metadata": {},
   "outputs": [
    {
     "name": "stdout",
     "output_type": "stream",
     "text": [
      "Details of the diamonds where length>5,width>5 and depth>5:\n",
      "       Unnamed: 0  carat   cut color clarity  depth  table  price     x     y  \\\n",
      "11778       11779   1.83  Fair     J      I1   70.0   58.0   5083  7.34  7.28   \n",
      "13002       13003   2.14  Fair     J      I1   69.4   57.0   5405  7.74  7.70   \n",
      "13118       13119   2.15  Fair     J      I1   65.5   57.0   5430  8.01  7.95   \n",
      "13562       13563   1.96  Fair     F      I1   66.6   60.0   5554  7.59  7.56   \n",
      "13757       13758   2.22  Fair     J      I1   66.7   56.0   5607  8.04  8.02   \n",
      "\n",
      "          z  \n",
      "11778  5.12  \n",
      "13002  5.36  \n",
      "13118  5.23  \n",
      "13562  5.04  \n",
      "13757  5.36  \n"
     ]
    }
   ],
   "source": [
    "#prints the details of the diamonds where length>5, width>5 and depth>5\n",
    "print(\"Details of the diamonds where length>5,width>5 and depth>5:\")\n",
    "result=diamonds[(diamonds.x>5)&(diamonds.y>5)&(diamonds.z>5)]\n",
    "print(result.head())"
   ]
  },
  {
   "cell_type": "markdown",
   "metadata": {},
   "source": [
    "# k) Read only a subset of 3 rows from diamonds Data frame and iterate through diamonds Data Frame"
   ]
  },
  {
   "cell_type": "code",
   "execution_count": 120,
   "metadata": {},
   "outputs": [
    {
     "name": "stdout",
     "output_type": "stream",
     "text": [
      "\n",
      " Subset of 3 rows:\n",
      "   Unnamed: 0  carat      cut color clarity  depth  table  price     x     y  \\\n",
      "0           1   0.23    Ideal     E     SI2   61.5     55    326  3.95  3.98   \n",
      "1           2   0.21  Premium     E     SI1   59.8     61    326  3.89  3.84   \n",
      "2           3   0.23     Good     E     VS1   56.9     65    327  4.05  4.07   \n",
      "\n",
      "      z  \n",
      "0  2.43  \n",
      "1  2.31  \n",
      "2  2.31  \n"
     ]
    }
   ],
   "source": [
    "#Reading only the 3 rows from the dataset\n",
    "print(\"\\n Subset of 3 rows:\")\n",
    "result=pd.read_csv('diamonds.csv',nrows=3)\n",
    "print(result.head())"
   ]
  },
  {
   "cell_type": "code",
   "execution_count": null,
   "metadata": {},
   "outputs": [],
   "source": [
    "## Iterating thruogh diamonds dataframe\n",
    "print(\"Iterating through diamonds dataframe:\")\n",
    "for index,row in diamonds.iterrows():\n",
    "    print(index,row.carat,row.cut,row.color,row.price)"
   ]
  },
  {
   "cell_type": "markdown",
   "metadata": {},
   "source": [
    "## i) Calculate the mean of each numeric column of diamonds data Frame and calculate the mean of each row of diamonds Data Frame\n"
   ]
  },
  {
   "cell_type": "code",
   "execution_count": 122,
   "metadata": {},
   "outputs": [
    {
     "name": "stdout",
     "output_type": "stream",
     "text": [
      " Mean of each numeric column of diamonds Data Frame:\n",
      "Unnamed: 0    26971.999852\n",
      "carat             0.797970\n",
      "depth            61.749447\n",
      "table            57.457042\n",
      "price          3932.999963\n",
      "x                 5.731247\n",
      "y                 5.734615\n",
      "z                 3.538791\n",
      "dtype: float64\n"
     ]
    }
   ],
   "source": [
    "# calculating the mean of columns\n",
    "print(\" Mean of each numeric column of diamonds Data Frame:\")\n",
    "print(diamonds.mean())"
   ]
  },
  {
   "cell_type": "code",
   "execution_count": 123,
   "metadata": {},
   "outputs": [
    {
     "name": "stdout",
     "output_type": "stream",
     "text": [
      "Mean of each numeric rows of diamonds Data Frame:\n",
      "0    56.76125\n",
      "1    57.38125\n",
      "3    58.71875\n",
      "6    59.11750\n",
      "7    59.10875\n",
      "dtype: float64\n"
     ]
    }
   ],
   "source": [
    "#calculating the mean of rows\n",
    "print(\"Mean of each numeric rows of diamonds Data Frame:\")\n",
    "print(diamonds.mean(axis=1).head())"
   ]
  },
  {
   "cell_type": "markdown",
   "metadata": {},
   "source": [
    "## m) Calculate the mean of price for each cut of diamonds Data Frame and Calculate count,minimum,maximum price foe each cut of diamonds Data Frame"
   ]
  },
  {
   "cell_type": "code",
   "execution_count": 124,
   "metadata": {},
   "outputs": [
    {
     "name": "stdout",
     "output_type": "stream",
     "text": [
      "Calculate the mean of price for each cut:\n",
      "cut\n",
      "Fair         4358.757764\n",
      "Good         3930.331770\n",
      "Ideal        3457.541970\n",
      "Premium      4584.257704\n",
      "Very Good    3982.061667\n",
      "Name: price, dtype: float64\n"
     ]
    }
   ],
   "source": [
    "# Calculating the mean of price\n",
    "print(\"Calculate the mean of price for each cut:\")\n",
    "print(diamonds.groupby('cut').price.mean())"
   ]
  },
  {
   "cell_type": "code",
   "execution_count": 125,
   "metadata": {},
   "outputs": [
    {
     "name": "stdout",
     "output_type": "stream",
     "text": [
      "\n",
      " Count,minimum,maximum price for each cut of diamonds data Frame:\n",
      "           count  min    max\n",
      "cut                         \n",
      "Fair        1610  337  18574\n",
      "Good        4904  339  18788\n",
      "Ideal      21551  326  18806\n",
      "Premium    13791  326  18823\n",
      "Very Good  12081  336  18818\n"
     ]
    }
   ],
   "source": [
    "#caculating count,minimum,maximum price for each cut of diamonds Data Frame\n",
    "print(\"\\n Count,minimum,maximum price for each cut of diamonds data Frame:\")\n",
    "print(diamonds.groupby('cut').price.agg(['count','min','max']))\n"
   ]
  },
  {
   "cell_type": "markdown",
   "metadata": {},
   "source": [
    "## n) Count the number of missing values in each Series  of diamonds Data Frame"
   ]
  },
  {
   "cell_type": "code",
   "execution_count": 126,
   "metadata": {},
   "outputs": [
    {
     "name": "stdout",
     "output_type": "stream",
     "text": [
      "Number of missing values in each Series of Diamonds Data Frame:\n",
      "Unnamed: 0    0\n",
      "carat         0\n",
      "cut           0\n",
      "color         0\n",
      "clarity       0\n",
      "depth         0\n",
      "table         0\n",
      "price         0\n",
      "x             0\n",
      "y             0\n",
      "z             0\n",
      "dtype: int64\n"
     ]
    }
   ],
   "source": [
    "print(\"Number of missing values in each Series of Diamonds Data Frame:\")\n",
    "print(diamonds.isnull().sum())"
   ]
  },
  {
   "cell_type": "markdown",
   "metadata": {},
   "source": [
    "## O) Access a specified Series index and th eSeries values of diamonds Data Frame"
   ]
  },
  {
   "cell_type": "code",
   "execution_count": 127,
   "metadata": {},
   "outputs": [
    {
     "name": "stdout",
     "output_type": "stream",
     "text": [
      "\n",
      " Accesing the series index:\n",
      "Float64Index([ 0.3, 0.31, 1.01,  0.7, 0.32,  1.0,  0.9, 0.41,  0.4, 0.71,\n",
      "              ...\n",
      "              2.65, 3.05, 2.71, 3.22, 4.13,  2.7, 3.67, 5.01, 2.77,  3.4],\n",
      "             dtype='float64', length=273)\n",
      "\n",
      " Accesing the Series values:\n",
      "[2604 2248 2242 1981 1840 1558 1485 1382 1299 1294 1258 1189 1127  910\n",
      "  883  817  807  793  764  709  706  670  667  645  625  572  570  523\n",
      "  496  492  492  488  475  473  440  430  398  394  381  373  361  342\n",
      "  322  310  308  300  292  287  284  282  279  278  265  253  253  251\n",
      "  251  251  249  246  246  236  233  228  226  220  215  212  212  207\n",
      "  204  200  198  187  187  178  177  174  172  155  149  146  142  140\n",
      "  135  134  133  131  130  126  124  123  122  122  119  110  110  109\n",
      "  106  106  103  102  101   99   95   89   89   89   87   86   80   77\n",
      "   68   67   65   65   64   64   63   62   61   60   59   59   57   52\n",
      "   52   50   50   50   50   50   48   48   48   46   45   45   43   43\n",
      "   41   40   40   36   34   32   32   31   31   31   30   28   27   26\n",
      "   26   25   25   25   25   25   24   23   23   23   22   22   21   21\n",
      "   21   21   21   20   19   19   18   18   18   18   18   17   17   17\n",
      "   17   16   16   15   15   15   14   13   13   13   13   12   12   12\n",
      "   12   11    9    9    9    9    9    9    9    8    8    8    8    8\n",
      "    7    7    7    7    7    6    6    6    5    5    5    5    4    4\n",
      "    4    4    4    4    4    3    3    3    3    3    3    3    3    3\n",
      "    3    3    3    3    3    3    3    3    2    2    2    2    2    2\n",
      "    1    1    1    1    1    1    1    1    1    1    1    1    1    1\n",
      "    1    1    1    1    1    1    1]\n"
     ]
    }
   ],
   "source": [
    "# Accessing the index and values\n",
    "print(\"\\n Accesing the series index:\")\n",
    "print(diamonds.carat.value_counts().index)\n",
    "print(\"\\n Accesing the Series values:\")\n",
    "print(diamonds.carat.value_counts().values)"
   ]
  },
  {
   "cell_type": "markdown",
   "metadata": {},
   "source": [
    "## p) Read rows 0 through 2(inclusive),columns 'color' through 'price' (inclusive) of diamonds data frame\n",
    " "
   ]
  },
  {
   "cell_type": "code",
   "execution_count": 128,
   "metadata": {},
   "outputs": [
    {
     "name": "stdout",
     "output_type": "stream",
     "text": [
      "\n",
      " Rows 0 through 2(inclusive),column 'color' through 'price' (inclusive)\n",
      "  color  price\n",
      "0     E    326\n",
      "1     E    326\n"
     ]
    }
   ],
   "source": [
    "print(\"\\n Rows 0 through 2(inclusive),column 'color' through 'price' (inclusive)\")\n",
    "print (diamonds.loc[0:2,['color','price']])"
   ]
  },
  {
   "cell_type": "markdown",
   "metadata": {},
   "source": [
    "## q) Read rows in which the 'cut' is 'premium',column 'color' of diamonds Data Frame"
   ]
  },
  {
   "cell_type": "code",
   "execution_count": 129,
   "metadata": {},
   "outputs": [
    {
     "name": "stdout",
     "output_type": "stream",
     "text": [
      "\n",
      " Rows in which the 'cut' is 'Premium':\n",
      "1        E\n",
      "3        I\n",
      "12       F\n",
      "14       E\n",
      "15       E\n",
      "        ..\n",
      "53928    E\n",
      "53930    E\n",
      "53931    F\n",
      "53934    D\n",
      "53938    H\n",
      "Name: color, Length: 13791, dtype: object\n"
     ]
    }
   ],
   "source": [
    "print( \"\\n Rows in which the 'cut' is 'Premium':\" )\n",
    "print(diamonds.loc[diamonds.cut=='Premium','color'])"
   ]
  },
  {
   "cell_type": "markdown",
   "metadata": {},
   "source": [
    "## r) Detect duplicate color and count the duplicate rows of diamonds Data Frame"
   ]
  },
  {
   "cell_type": "code",
   "execution_count": 130,
   "metadata": {},
   "outputs": [
    {
     "name": "stdout",
     "output_type": "stream",
     "text": [
      "number of rows and columns:\n",
      "diamonds.shape\n",
      "\n",
      " count the duplicate rows of diamonds Data Frame\n",
      "53929\n"
     ]
    }
   ],
   "source": [
    "print(\"number of rows and columns:\")\n",
    "print(\"diamonds.shape\")\n",
    "print('\\n count the duplicate rows of diamonds Data Frame')\n",
    "print(diamonds.clarity.duplicated().sum())"
   ]
  },
  {
   "cell_type": "code",
   "execution_count": 137,
   "metadata": {},
   "outputs": [
    {
     "data": {
      "text/plain": [
       "False"
      ]
     },
     "execution_count": 137,
     "metadata": {},
     "output_type": "execute_result"
    }
   ],
   "source": [
    "#Evaluating the missing values\n",
    "diamonds.isnull().any().any()"
   ]
  },
  {
   "cell_type": "code",
   "execution_count": 144,
   "metadata": {},
   "outputs": [
    {
     "data": {
      "text/plain": [
       "Unnamed: 0    0\n",
       "carat         0\n",
       "cut           0\n",
       "color         0\n",
       "clarity       0\n",
       "depth         0\n",
       "table         0\n",
       "price         0\n",
       "x             0\n",
       "y             0\n",
       "z             0\n",
       "dtype: int64"
      ]
     },
     "execution_count": 144,
     "metadata": {},
     "output_type": "execute_result"
    }
   ],
   "source": [
    "diamonds.isnull().sum()"
   ]
  },
  {
   "cell_type": "markdown",
   "metadata": {},
   "source": [
    "## s) check the number of rows and columns and drop those row if 'any' values are missing in a row of diamonds Data frame"
   ]
  },
  {
   "cell_type": "code",
   "execution_count": 145,
   "metadata": {},
   "outputs": [
    {
     "name": "stdout",
     "output_type": "stream",
     "text": [
      "Number of rows and columns:\n",
      "(53940, 11)\n",
      "After droping those rows which are having missing values\n",
      "(53940, 11)\n"
     ]
    }
   ],
   "source": [
    "print(\"Number of rows and columns:\")\n",
    "print(diamonds.shape)\n",
    "print(\"After droping those rows which are having missing values\")\n",
    "print(diamonds.dropna(how='any').shape)"
   ]
  },
  {
   "cell_type": "markdown",
   "metadata": {},
   "source": [
    "## t) calculate various summary statistics of cut series of diamonds Data Frame"
   ]
  },
  {
   "cell_type": "code",
   "execution_count": 147,
   "metadata": {},
   "outputs": [
    {
     "name": "stdout",
     "output_type": "stream",
     "text": [
      "\n",
      " Various summary statistics of cut series of diamonds Data Frame:\n",
      "count    53940.000000\n",
      "mean         0.797940\n",
      "std          0.474011\n",
      "min          0.200000\n",
      "25%          0.400000\n",
      "50%          0.700000\n",
      "75%          1.040000\n",
      "max          5.010000\n",
      "Name: carat, dtype: float64\n"
     ]
    }
   ],
   "source": [
    "print(\"\\n Various summary statistics of cut series of diamonds Data Frame:\")\n",
    "print(diamonds.carat.describe())"
   ]
  },
  {
   "cell_type": "markdown",
   "metadata": {},
   "source": [
    "## u) concatenate the diamonds Data Frame with the 'color' Series"
   ]
  },
  {
   "cell_type": "code",
   "execution_count": 153,
   "metadata": {},
   "outputs": [
    {
     "name": "stdout",
     "output_type": "stream",
     "text": [
      "original dataset\n",
      "   Unnamed: 0  carat      cut color clarity  depth  table  price     x     y  \\\n",
      "0           1   0.23    Ideal     E     SI2   61.5   55.0    326  3.95  3.98   \n",
      "1           2   0.21  Premium     E     SI1   59.8   61.0    326  3.89  3.84   \n",
      "2           3   0.23     Good     E     VS1   56.9   65.0    327  4.05  4.07   \n",
      "3           4   0.29  Premium     I     VS2   62.4   58.0    334  4.20  4.23   \n",
      "4           5   0.31     Good     J     SI2   63.3   58.0    335  4.34  4.35   \n",
      "\n",
      "      z  \n",
      "0  2.43  \n",
      "1  2.31  \n",
      "2  2.31  \n",
      "3  2.63  \n",
      "4  2.75  \n",
      "cancatenate the diamonds Data Frame with the 'color' Series:\n",
      "   Unnamed: 0  carat      cut color clarity  depth  table  price     x     y  \\\n",
      "0           1   0.23    Ideal     E     SI2   61.5   55.0    326  3.95  3.98   \n",
      "1           2   0.21  Premium     E     SI1   59.8   61.0    326  3.89  3.84   \n",
      "2           3   0.23     Good     E     VS1   56.9   65.0    327  4.05  4.07   \n",
      "3           4   0.29  Premium     I     VS2   62.4   58.0    334  4.20  4.23   \n",
      "4           5   0.31     Good     J     SI2   63.3   58.0    335  4.34  4.35   \n",
      "\n",
      "      z color  \n",
      "0  2.43     E  \n",
      "1  2.31     E  \n",
      "2  2.31     E  \n",
      "3  2.63     I  \n",
      "4  2.75     J  \n"
     ]
    }
   ],
   "source": [
    "print(\"original dataset\")\n",
    "print(diamonds.head())\n",
    "print(\"cancatenate the diamonds Data Frame with the 'color' Series:\")\n",
    "print(pd.concat([diamonds,diamonds.color],axis=1).head())"
   ]
  },
  {
   "cell_type": "code",
   "execution_count": null,
   "metadata": {},
   "outputs": [],
   "source": []
  }
 ],
 "metadata": {
  "kernelspec": {
   "display_name": "Python 3",
   "language": "python",
   "name": "python3"
  },
  "language_info": {
   "codemirror_mode": {
    "name": "ipython",
    "version": 3
   },
   "file_extension": ".py",
   "mimetype": "text/x-python",
   "name": "python",
   "nbconvert_exporter": "python",
   "pygments_lexer": "ipython3",
   "version": "3.8.5"
  }
 },
 "nbformat": 4,
 "nbformat_minor": 4
}
